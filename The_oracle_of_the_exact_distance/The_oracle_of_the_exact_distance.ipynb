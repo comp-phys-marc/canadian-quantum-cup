{
 "cells": [
  {
   "cell_type": "markdown",
   "id": "91180e48",
   "metadata": {},
   "source": [
    "### The oracle for the exact distance\n",
    "\n",
    "A common concept associated with search algorithms is that of an oracle—an operator that changes the sign of the inputs that we are looking for. For example, let us label the possible inputs via the computational basis of the three-qubit states: $|0\\rangle, |1\\rangle, \\ldots, |7\\rangle.$ Suppose that the sought-after element is $|3\\rangle$. Then the action of the oracle $U$ is as follows:\n",
    "\n",
    "$$U|x\\rangle = |x\\rangle \\quad \\text{if}\\ x \\not = 3$$\n",
    "\n",
    "and\n",
    "\n",
    "$$U|3\\rangle = -|3\\rangle.$$\n",
    "\n",
    "However, oracles do not have to accept only one input, sometimes they accept more and will change sign to those that meet a certain property. \n",
    "We'll encounter an example of this in this challenge! Our goal will be to build an oracle capable of changing the sign of two three-qubit states **only when** these two states are separated by a distance $d$, as shown in the figure below.\n",
    "\n",
    "<p align=\"center\">\n",
    "<img src=\"./images/mn_oracle.png\" width=\"400\"/>\n",
    "</p>\n",
    "\n",
    "Although it may seem like a simple task, you may need some auxiliary qubits, so don't worry, you will be able to use them 😉 \n",
    "\n",
    "We will leave room at the top of the challenge template so that you can create as many helper functions as you want. \n",
    "However, the use of `qml.QubitUnitary` is not allowed. You must build this oracle without access to the circuit matrix, as would be done in a real quantum computer. "
   ]
  },
  {
   "cell_type": "markdown",
   "id": "302f8b92",
   "metadata": {},
   "source": [
    "## Challenge code\n",
    " \n",
    " The only function that must be completed is the quantum function `oracle_distance`, which takes as input the distance `d` (`int`), $d \\in \\{ 0, 1, 2, \\dots, 7\\}.$\n",
    " You can create as many helper functions as you want at the top of the challenge template. \n",
    " You can use up to 5 auxiliary qubits. Remember that the output state of the auxiliary qubits must be reset to $|0\\rangle$ after use. Otherwise, this could cause problems when implementing the operator in different algorithms. \n",
    " \n",
    " ### Input \n",
    " \n",
    " As input to this problem, you are given:\n",
    " \n",
    " - `d` (`int`): the distance with which we will check that the oracle is working properly.\n",
    " \n",
    " ### Output\n",
    " \n",
    " In this case, there will be no output. Once you have created the operator, we will check that the matrix representation of the oracle has the desired shape. \n",
    " \n",
    " ### Test cases\n",
    " \n",
    " We will test that your oracle generates the correct matrix by using all the possible values of the distance `d`, $d \\in \\lbrace 0,\\ldots, 7\\rbrace.$\n",
    " \n",
    " ### Imports\n",
    " The cell below specifies the libraries you should use in this challenge. Run the cell to import the libraries. ***Do not modify the cell.***"
   ]
  },
  {
   "cell_type": "code",
   "execution_count": null,
   "id": "f07cbf36",
   "metadata": {},
   "outputs": [],
   "source": [
    "import json\n",
    "import pennylane as qml\n",
    "from pennylane import numpy as np"
   ]
  },
  {
   "cell_type": "markdown",
   "id": "fb0409c2",
   "metadata": {},
   "source": [
    "### Code\n",
    " Complete the code below. Note that during the event, some sections are not editable. We've marked those sections accordingly here, but you can still edit them if you wish."
   ]
  },
  {
   "cell_type": "code",
   "execution_count": null,
   "id": "8639fc41",
   "metadata": {},
   "outputs": [],
   "source": [
    "# Uneditable section #\n",
    "\n",
    "wires_m = [0, 1, 2]  # qubits needed to encode m\n",
    "wires_n = [3, 4, 5]  # qubits needed to encode n\n",
    "wires_aux = [6, 7, 8, 9, 10]  # auxiliary qubits you can use\n",
    "\n",
    "# End of uneditable section #\n",
    "\n",
    "\n",
    "# Put your code here #\n",
    "\n",
    "# Create all the helper functions you need here\n",
    "\n",
    "\n",
    "\n",
    "# Uneditable section #\n",
    "def oracle_distance(d):\n",
    "    \"\"\"\n",
    "    Args:\n",
    "        d (int): the distance with which we will check that the oracle is working properly.\n",
    "\n",
    "    This function does not return anything, it is a quantum function that applies\n",
    "    necessary gates that implement the requested oracle.\n",
    "\n",
    "    \"\"\"\n",
    "\n",
    "    # End of uneditable section #\n",
    "\n",
    "\n",
    "    # aux are |0> if |A>, |B> are the same\n",
    "    qml.CCX(wires=[6], control_wires=[0, 3])\n",
    "    qml.CCX(wires=[7], control_wires=[1, 4])\n",
    "    qml.CCX(wires=[8], controlled_wires=[2, 5])\n",
    "    qml.ControlledQubitUnitary(np.array([[0, 1], [1, 0]]), wires=[9], controlled_wires=[6, 7, 8])"
   ]
  },
  {
   "cell_type": "markdown",
   "id": "c1cb53c8",
   "metadata": {},
   "source": [
    "These functions are responsible for testing the solution. You will need to run the cell below. ***Do not modify the cell.***"
   ]
  },
  {
   "cell_type": "code",
   "execution_count": null,
   "id": "26ab22ef",
   "metadata": {},
   "outputs": [],
   "source": [
    "wires_m = [0, 1, 2]\n",
    "wires_n = [3, 4, 5]\n",
    "wires_aux = [6, 7, 8, 9, 10]\n",
    "\n",
    "dev = qml.device(\"default.qubit\", wires=11)\n",
    "\n",
    "\n",
    "@qml.qnode(dev)\n",
    "def circuit(m, n, d):\n",
    "    qml.BasisEmbedding(m, wires=wires_m)\n",
    "    qml.BasisEmbedding(n, wires=wires_n)\n",
    "    oracle_distance(d)\n",
    "    return qml.state()\n",
    "\n",
    "\n",
    "def run(test_case_input: str) -> str:\n",
    "    outputs = []\n",
    "    d = int(json.loads(test_case_input))\n",
    "    for n in range(8):\n",
    "        for m in range(8):\n",
    "            outputs.append(sum(circuit(n, m, d)).real)\n",
    "    outputs.append(d)\n",
    "    output_list = [elem.numpy() for elem in outputs[:-1]] + [outputs[-1]]\n",
    "    return str(output_list)\n",
    "\n",
    "\n",
    "def check(solution_output: str, expected_output: str) -> None:\n",
    "    i = 0\n",
    "    solution_output = json.loads(solution_output)\n",
    "    d = solution_output[-1]\n",
    "    assert expected_output == \"No output\", \"Something went wrong\"\n",
    "    for n in range(8):\n",
    "        for m in range(8):\n",
    "            solution = 1\n",
    "            if abs(n - m) == d:\n",
    "                solution = -1\n",
    "            assert np.isclose(solution_output[i], solution)\n",
    "            i += 1\n",
    "\n",
    "    circuit(np.random.randint(7), np.random.randint(7), np.random.randint(7))\n",
    "    tape = circuit.qtape\n",
    "\n",
    "    names = [op.name for op in tape.operations]\n",
    "\n",
    "    assert names.count(\"QubitUnitary\") == 0, \"Can't use custom-built gates!\""
   ]
  },
  {
   "cell_type": "markdown",
   "id": "807b01c8",
   "metadata": {},
   "source": [
    "### Test cases\n",
    " Running the cell below will load the test cases. ***Do not modify the cell***. If there are no test cases, that's intentional.\n",
    " - input: 0\n",
    " \t+ expected output: No output\n",
    " - input: 1\n",
    " \t+ expected output: No output\n",
    " - input: 2\n",
    " \t+ expected output: No output\n",
    " - input: 3\n",
    " \t+ expected output: No output\n",
    " - input: 4\n",
    " \t+ expected output: No output\n",
    " - input: 5\n",
    " \t+ expected output: No output\n",
    " - input: 6\n",
    " \t+ expected output: No output\n",
    " - input: 7\n",
    " \t+ expected output: No output"
   ]
  },
  {
   "cell_type": "code",
   "execution_count": null,
   "id": "c279ad7f",
   "metadata": {},
   "outputs": [],
   "source": [
    "test_cases = [['0', 'No output'], ['1', 'No output'], ['2', 'No output'], ['3', 'No output'], ['4', 'No output'], ['5', 'No output'], ['6', 'No output'], ['7', 'No output']]"
   ]
  },
  {
   "cell_type": "markdown",
   "id": "7a165012",
   "metadata": {},
   "source": [
    "### Solution testing\n",
    " Once you have run every cell above, including the one with your code, the cell below will test your solution. Run the cell. If you are correct for all of the test cases, it means your solutions is correct. Otherwise, you need to double check your work. ***Do not modify the cell below.***"
   ]
  },
  {
   "cell_type": "code",
   "execution_count": null,
   "id": "39ba1202",
   "metadata": {},
   "outputs": [],
   "source": [
    "for i, (input_, expected_output) in enumerate(test_cases):\n",
    "    print(f\"Running test case {i} with input '{input_}'...\")\n",
    "\n",
    "    try:\n",
    "        output = run(input_)\n",
    "\n",
    "    except Exception as exc:\n",
    "        print(f\"Runtime Error. {exc}\")\n",
    "\n",
    "    else:\n",
    "        if message := check(output, expected_output):\n",
    "            print(f\"Wrong Answer. Have: '{output}'. Want: '{expected_output}'.\")\n",
    "\n",
    "        else:\n",
    "            print(\"Correct!\")"
   ]
  }
 ],
 "metadata": {
  "language_info": {
   "name": "python"
  }
 },
 "nbformat": 4,
 "nbformat_minor": 5
}