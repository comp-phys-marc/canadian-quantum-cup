{
 "cells": [
  {
   "cell_type": "code",
   "execution_count": 12,
   "metadata": {},
   "outputs": [],
   "source": [
    "import json\n",
    "import pennylane as qml\n",
    "import pennylane.numpy as np"
   ]
  },
  {
   "cell_type": "code",
   "execution_count": 13,
   "metadata": {},
   "outputs": [],
   "source": [
    "edges = [(0, 1), (1, 2), (2, 0), (2, 3)]\n",
    "num_wires = 4\n",
    "\n",
    "# We define the Hamiltonian for you!\n",
    "\n",
    "ops = [qml.PauliZ(0), qml.PauliZ(1),qml.PauliZ(2), qml.PauliZ(3), qml.PauliZ(0)@qml.PauliZ(1), qml.PauliZ(0)@qml.PauliZ(2),qml.PauliZ(1)@qml.PauliZ(2),qml.PauliZ(2)@qml.PauliZ(3)]\n",
    "coeffs = [0.5, 0.5, 1.25, -0.25, 0.75, 0.75, 0.75, 0.75]\n",
    "\n",
    "cost_hamiltonian = qml.Hamiltonian(coeffs, ops)"
   ]
  },
  {
   "cell_type": "code",
   "execution_count": 14,
   "metadata": {},
   "outputs": [],
   "source": [
    "# Write any helper functions you need here\n",
    "ops = [qml.PauliX(wire) for wire in range(num_wires)]\n",
    "coeffs = [1.] * 4\n",
    "mixer_hamiltonian = qml.Hamiltonian(coeffs, ops)\n",
    "\n",
    "def get_noisy_circuit_list(params, noise_param):\n",
    "    with qml.tape.QuantumTape() as tape:\n",
    "        for layer_params in params:\n",
    "            qml.qaoa.cost_layer(layer_params[0], cost_hamiltonian)\n",
    "            qml.qaoa.mixer_layer(layer_params[1], mixer_hamiltonian)\n",
    "        \n",
    "    compile_tape = tape.expand(depth=3)\n",
    "    \n",
    "    noisy_op_list = []\n",
    "    for op in compile_tape:\n",
    "        noisy_op_list.append(op)\n",
    "        if op.name == 'CNOT':\n",
    "            noisy_op_list.append(qml.DepolarizingChannel(noise_param, op.wires[1]))\n",
    "\n",
    "    return noisy_op_list"
   ]
  },
  {
   "cell_type": "code",
   "execution_count": 15,
   "metadata": {},
   "outputs": [],
   "source": [
    "dev = qml.device('default.mixed', wires = num_wires)\n",
    "\n",
    "@qml.qnode(dev) \n",
    "def qaoa_circuit(params, noise_param):\n",
    "\n",
    "    \"\"\"\n",
    "    Define the noisy QAOA circuit with only CNOT and rotation gates, with Depolarizing noise\n",
    "    in the target qubit of each CNOT gate.\n",
    "\n",
    "    Args:\n",
    "        params(list(list(float))): A list with length equal to the QAOA depth. Each element is a list that contains \n",
    "        the two QAOA parameters of each layer.\n",
    "        noise_param (float): The noise parameter associated with the depolarization gate\n",
    "\n",
    "    Returns: \n",
    "        (np.tensor): A numpy tensor of 1 element corresponding to the expectation value of the cost Hamiltonian\n",
    "    \n",
    "    \"\"\"\n",
    "    # Put your code here #\n",
    "    for op in get_noisy_circuit_list(params, noise_param):\n",
    "        op\n",
    "    return qml.expval(cost_hamiltonian)"
   ]
  },
  {
   "cell_type": "code",
   "execution_count": 16,
   "metadata": {},
   "outputs": [],
   "source": [
    "def approximation_ratio(qaoa_depth, noise_param):\n",
    "    \"\"\"\n",
    "    Returns the approximation ratio of the QAOA algorithm for the Minimum Vertex Cover of the given graph\n",
    "    with depolarizing gates after each native CNOT gate\n",
    "\n",
    "    Args:\n",
    "        qaoa_depth (float): The number of cost/mixer layer in the QAOA algorithm used\n",
    "        noise_param (float): The noise parameter associated with the depolarization gate\n",
    "    \n",
    "    Returns: \n",
    "        (float): The approximation ratio for the noisy QAOA\n",
    "    \"\"\"\n",
    "    # Put your code here #\n",
    "    true_min_expval = min(qml.eigvals(cost_hamiltonian))\n",
    "    \n",
    "    optimizer = qml.GradientDescentOptimizer()\n",
    "    steps = 100\n",
    "    params = np.random.randn(qaoa_depth, 2, requires_grad=True)\n",
    "    \n",
    "    qaoa_circuit(params, noise_param)\n",
    "    \n",
    "    def cost(params):\n",
    "        return qaoa_circuit(params, noise_param)\n",
    "    \n",
    "    for _ in range(steps):\n",
    "        params = optimizer.step(cost, params)\n",
    "    \n",
    "    noisy_qaoa_expval = qaoa_circuit(params, noise_param)\n",
    "    return noisy_qaoa_expval/true_min_expval"
   ]
  },
  {
   "cell_type": "markdown",
   "metadata": {},
   "source": [
    "Adding test cases"
   ]
  },
  {
   "cell_type": "code",
   "execution_count": 17,
   "metadata": {},
   "outputs": [],
   "source": [
    "# These functions are responsible for testing the solution.\n",
    "random_params = np.array([np.random.rand(2)])\n",
    "\n",
    "ops_2 = [qml.PauliX(0), qml.PauliX(1), qml.PauliX(2), qml.PauliX(3)]\n",
    "coeffs_2 = [1,1,1,1]\n",
    "\n",
    "mixer_hamiltonian = qml.Hamiltonian(coeffs_2, ops_2)\n",
    "\n",
    "@qml.qnode(dev)\n",
    "def noiseless_qaoa(params):\n",
    "\n",
    "    for wire in range(num_wires):\n",
    "\n",
    "        qml.Hadamard(wires = wire)\n",
    "\n",
    "    for elem in params:\n",
    "\n",
    "        qml.ApproxTimeEvolution(cost_hamiltonian, elem[0], 1)\n",
    "        qml.ApproxTimeEvolution(mixer_hamiltonian, elem[1],1)\n",
    "\n",
    "    return qml.expval(cost_hamiltonian)\n",
    "\n",
    "random_params = np.array([np.random.rand(2)])\n",
    "\n",
    "circuit_check = (np.isclose(noiseless_qaoa(random_params) - qaoa_circuit(random_params,0),0)).numpy()\n",
    "\n",
    "def run(test_case_input: str) -> str:\n",
    "    input = json.loads(test_case_input)\n",
    "    output = approximation_ratio(*input)\n",
    "\n",
    "    return str(output)\n",
    "\n",
    "def check(solution_output: str, expected_output: str) -> None:\n",
    "    solution_output = json.loads(solution_output)\n",
    "    expected_output = json.loads(expected_output)\n",
    "    \n",
    "    tape = qaoa_circuit.qtape\n",
    "    names = [op.name for op in tape.operations]\n",
    "    random_params = np.array([np.random.rand(2)])\n",
    "\n",
    "    assert circuit_check, \"qaoa_circuit is not doing what it's expected to.\"\n",
    "\n",
    "    assert names.count('ApproxTimeEvolution') == 0, \"Your circuit must not use the built-in PennyLane Trotterization.\"\n",
    "     \n",
    "    assert set(names) == {'DepolarizingChannel', 'RX', 'RY', 'RZ', 'CNOT'}, \"Your circuit must use qml.RX, qml.RY, qml.RZ, qml.CNOT, and qml.DepolarizingChannel.\"\n",
    "\n",
    "    assert solution_output > expected_output - 0.02"
   ]
  },
  {
   "cell_type": "code",
   "execution_count": 18,
   "metadata": {},
   "outputs": [],
   "source": [
    "# These are the public test cases\n",
    "test_cases = [\n",
    "    ('[2,0.005]', '0.4875'),\n",
    "    ('[1, 0.003]', '0.1307')\n",
    "]"
   ]
  },
  {
   "cell_type": "code",
   "execution_count": 10,
   "metadata": {},
   "outputs": [],
   "source": [
    "# This will run the public test cases locally\n",
    "for i, (input_, expected_output) in enumerate(test_cases):\n",
    "    print(f\"Running test case {i} with input '{input_}'...\")\n",
    "\n",
    "    try:\n",
    "        output = run(input_)\n",
    "\n",
    "    except Exception as exc:\n",
    "        print(f\"Runtime Error. {exc}\")\n",
    "\n",
    "    else:\n",
    "        if message := check(output, expected_output):\n",
    "            print(f\"Wrong Answer. Have: '{output}'. Want: '{expected_output}'.\")\n",
    "\n",
    "        else:\n",
    "            print(\"Correct!\")"
   ]
  },
  {
   "cell_type": "code",
   "execution_count": null,
   "outputs": [],
   "source": [],
   "metadata": {
    "collapsed": false,
    "pycharm": {
     "name": "#%%\n"
    }
   }
  },
  {
   "cell_type": "code",
   "execution_count": 19,
   "metadata": {},
   "outputs": [
    {
     "name": "stdout",
     "output_type": "stream",
     "text": [
      "<QuantumTape: wires=[0, 1, 2, 3], params=14>\n",
      "DepolarizingChannel(0, wires=[0])\n",
      "DepolarizingChannel(0, wires=[0])\n",
      "DepolarizingChannel(0, wires=[0])\n",
      "DepolarizingChannel(0, wires=[0])\n",
      "DepolarizingChannel(0, wires=[1])\n",
      "DepolarizingChannel(0, wires=[1])\n",
      "DepolarizingChannel(0, wires=[2])\n",
      "DepolarizingChannel(0, wires=[2])\n"
     ]
    }
   ],
   "source": [
    "for op in qaoa_circuit.qtape.operations:\n",
    "    print(op)"
   ]
  },
  {
   "cell_type": "code",
   "execution_count": 20,
   "metadata": {},
   "outputs": [
    {
     "data": {
      "text/plain": "[RZ(0.1, wires=[0]),\n RZ(0.1, wires=[1]),\n RZ(0.25, wires=[2]),\n RZ(-0.05, wires=[3]),\n CNOT(wires=[1, 0]),\n DepolarizingChannel(0.1, wires=[0]),\n RZ(0.15000000000000002, wires=[0]),\n CNOT(wires=[1, 0]),\n DepolarizingChannel(0.1, wires=[0]),\n CNOT(wires=[2, 0]),\n DepolarizingChannel(0.1, wires=[0]),\n RZ(0.15000000000000002, wires=[0]),\n CNOT(wires=[2, 0]),\n DepolarizingChannel(0.1, wires=[0]),\n CNOT(wires=[2, 1]),\n DepolarizingChannel(0.1, wires=[1]),\n RZ(0.15000000000000002, wires=[1]),\n CNOT(wires=[2, 1]),\n DepolarizingChannel(0.1, wires=[1]),\n CNOT(wires=[3, 2]),\n DepolarizingChannel(0.1, wires=[2]),\n RZ(0.15000000000000002, wires=[2]),\n CNOT(wires=[3, 2]),\n DepolarizingChannel(0.1, wires=[2]),\n PhaseShift(1.5707963267948966, wires=[0]),\n RX(1.5707963267948966, wires=[0]),\n PhaseShift(1.5707963267948966, wires=[0]),\n RZ(0.4, wires=[0]),\n PhaseShift(1.5707963267948966, wires=[0]),\n RX(1.5707963267948966, wires=[0]),\n PhaseShift(1.5707963267948966, wires=[0]),\n PhaseShift(1.5707963267948966, wires=[1]),\n RX(1.5707963267948966, wires=[1]),\n PhaseShift(1.5707963267948966, wires=[1]),\n RZ(0.4, wires=[1]),\n PhaseShift(1.5707963267948966, wires=[1]),\n RX(1.5707963267948966, wires=[1]),\n PhaseShift(1.5707963267948966, wires=[1]),\n PhaseShift(1.5707963267948966, wires=[2]),\n RX(1.5707963267948966, wires=[2]),\n PhaseShift(1.5707963267948966, wires=[2]),\n RZ(0.4, wires=[2]),\n PhaseShift(1.5707963267948966, wires=[2]),\n RX(1.5707963267948966, wires=[2]),\n PhaseShift(1.5707963267948966, wires=[2]),\n PhaseShift(1.5707963267948966, wires=[3]),\n RX(1.5707963267948966, wires=[3]),\n PhaseShift(1.5707963267948966, wires=[3]),\n RZ(0.4, wires=[3]),\n PhaseShift(1.5707963267948966, wires=[3]),\n RX(1.5707963267948966, wires=[3]),\n PhaseShift(1.5707963267948966, wires=[3])]"
     },
     "execution_count": 20,
     "metadata": {},
     "output_type": "execute_result"
    }
   ],
   "source": [
    "get_noisy_circuit_list([[.1,.2]], .1)"
   ]
  }
 ],
 "metadata": {
  "kernelspec": {
   "display_name": "qml",
   "language": "python",
   "name": "python3"
  },
  "language_info": {
   "codemirror_mode": {
    "name": "ipython",
    "version": 3
   },
   "file_extension": ".py",
   "mimetype": "text/x-python",
   "name": "python",
   "nbconvert_exporter": "python",
   "pygments_lexer": "ipython3",
   "version": "3.8.16"
  }
 },
 "nbformat": 4,
 "nbformat_minor": 2
}