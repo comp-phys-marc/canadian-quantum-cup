{
 "cells": [
  {
   "cell_type": "markdown",
   "metadata": {},
   "source": [
    "Challenge 1: Quantum state discrimination"
   ]
  },
  {
   "cell_type": "code",
   "execution_count": 1,
   "metadata": {},
   "outputs": [],
   "source": [
    "import json\n",
    "import pennylane as qml\n",
    "import pennylane.numpy as np"
   ]
  },
  {
   "cell_type": "code",
   "execution_count": 5,
   "metadata": {},
   "outputs": [],
   "source": [
    "def maximal_probability(theta_1, theta_2, p_1, p_2):\n",
    "    \"\"\"\n",
    "    This function calculates the maximal probability of distinguishing\n",
    "    the states\n",
    "\n",
    "    Args:\n",
    "        theta_1 (float): Angle parametrizing the state |phi_1>.\n",
    "        theta_2 (float): Angle parametrizing the state |phi_2>.\n",
    "        p_1 (float): Probability that the state was |phi_1>.\n",
    "        p_2 (float): Probability that the state was |phi_2>.\n",
    "\n",
    "    Returns:\n",
    "        (Union[float, np.tensor]): Maximal probability of distinguishing the states.\n",
    "    \"\"\"\n",
    "    state_1 = np.array([np.cos(theta_1), np.sin(theta_1)])\n",
    "    state_2 = np.array([np.cos(theta_2), np.sin(theta_2)])\n",
    "    \n",
    "    dm_1, dm_2 = np.outer(state_1, state_1), np.outer(state_2, state_2)\n",
    "    return 0.5 + 0.5*np.linalg.norm(p_1*dm_1 - p_2*dm_2, 1)"
   ]
  },
  {
   "cell_type": "code",
   "execution_count": 9,
   "metadata": {},
   "outputs": [
    {
     "data": {
      "text/plain": [
       "(0, 0.7853981633974483, 0.25, 0.75)"
      ]
     },
     "execution_count": 9,
     "metadata": {},
     "output_type": "execute_result"
    }
   ],
   "source": [
    "theta_1, theta_2, p_1, p_2 = json.loads('[0, 0.7853981633974483, 0.25, 0.75]')\n",
    "theta_1, theta_2, p_1, p_2"
   ]
  },
  {
   "cell_type": "code",
   "execution_count": 11,
   "metadata": {},
   "outputs": [
    {
     "name": "stdout",
     "output_type": "stream",
     "text": [
      "[1. 0.] [0.70710678 0.70710678]\n"
     ]
    }
   ],
   "source": [
    "state_1 = np.array([np.cos(theta_1), np.sin(theta_1)])\n",
    "state_2 = np.array([np.cos(theta_2), np.sin(theta_2)])\n",
    "print(state_1, state_2)"
   ]
  },
  {
   "cell_type": "code",
   "execution_count": 12,
   "metadata": {},
   "outputs": [
    {
     "name": "stdout",
     "output_type": "stream",
     "text": [
      "[[1. 0.]\n",
      " [0. 0.]] [[0.5 0.5]\n",
      " [0.5 0.5]]\n"
     ]
    }
   ],
   "source": [
    "dm_1, dm_2 = np.outer(state_1, state_1), np.outer(state_2, state_2)\n",
    "print(dm_1, dm_2)"
   ]
  },
  {
   "cell_type": "code",
   "execution_count": 22,
   "metadata": {},
   "outputs": [
    {
     "name": "stdout",
     "output_type": "stream",
     "text": [
      "0.875\n",
      "0.8535533905932737\n",
      "0.75\n",
      "0.8535533905932737\n",
      "0.3952847075210474\n"
     ]
    }
   ],
   "source": [
    "print(0.5 + 0.5*np.linalg.norm(p_1*dm_1 - p_2*dm_2, 1))\n",
    "print(0.5 + 0.5*np.sin(theta_2-theta_1))\n",
    "print(0.5 + 0.5*np.linalg.norm(0.5*(dm_1 - dm_2), 1))\n",
    "print(0.5 + 0.5*np.sin(abs(theta_2-theta_1)))\n",
    "print(0.5*np.sqrt((1 - 4*p_1*p_2*(np.inner(state_1, state_2)**2))))"
   ]
  },
  {
   "cell_type": "code",
   "execution_count": 20,
   "metadata": {},
   "outputs": [
    {
     "data": {
      "text/plain": [
       "2.0"
      ]
     },
     "execution_count": 20,
     "metadata": {},
     "output_type": "execute_result"
    }
   ],
   "source": [
    "np.sqrt(4)"
   ]
  },
  {
   "cell_type": "code",
   "execution_count": 6,
   "metadata": {},
   "outputs": [
    {
     "name": "stdout",
     "output_type": "stream",
     "text": [
      "Running test case 0 with input '[0, 0.7853981633974483, 0.25, 0.75]'...\n"
     ]
    },
    {
     "ename": "AssertionError",
     "evalue": "",
     "output_type": "error",
     "traceback": [
      "\u001b[0;31m---------------------------------------------------------------------------\u001b[0m",
      "\u001b[0;31mAssertionError\u001b[0m                            Traceback (most recent call last)",
      "\u001b[1;32m/home/abhishekabhishek/git/canadian-quantum-cup/quantum-state-discrimination/qsd.ipynb Cell 4\u001b[0m line \u001b[0;36m3\n\u001b[1;32m     <a href='vscode-notebook-cell:/home/abhishekabhishek/git/canadian-quantum-cup/quantum-state-discrimination/qsd.ipynb#W5sZmlsZQ%3D%3D?line=32'>33</a>\u001b[0m     \u001b[39mprint\u001b[39m(\u001b[39mf\u001b[39m\u001b[39m\"\u001b[39m\u001b[39mRuntime Error. \u001b[39m\u001b[39m{\u001b[39;00mexc\u001b[39m}\u001b[39;00m\u001b[39m\"\u001b[39m)\n\u001b[1;32m     <a href='vscode-notebook-cell:/home/abhishekabhishek/git/canadian-quantum-cup/quantum-state-discrimination/qsd.ipynb#W5sZmlsZQ%3D%3D?line=34'>35</a>\u001b[0m \u001b[39melse\u001b[39;00m:\n\u001b[0;32m---> <a href='vscode-notebook-cell:/home/abhishekabhishek/git/canadian-quantum-cup/quantum-state-discrimination/qsd.ipynb#W5sZmlsZQ%3D%3D?line=35'>36</a>\u001b[0m     \u001b[39mif\u001b[39;00m message \u001b[39m:=\u001b[39m check(output, expected_output):\n\u001b[1;32m     <a href='vscode-notebook-cell:/home/abhishekabhishek/git/canadian-quantum-cup/quantum-state-discrimination/qsd.ipynb#W5sZmlsZQ%3D%3D?line=36'>37</a>\u001b[0m         \u001b[39mprint\u001b[39m(\u001b[39mf\u001b[39m\u001b[39m\"\u001b[39m\u001b[39mWrong Answer. Have: \u001b[39m\u001b[39m'\u001b[39m\u001b[39m{\u001b[39;00moutput\u001b[39m}\u001b[39;00m\u001b[39m'\u001b[39m\u001b[39m. Want: \u001b[39m\u001b[39m'\u001b[39m\u001b[39m{\u001b[39;00mexpected_output\u001b[39m}\u001b[39;00m\u001b[39m'\u001b[39m\u001b[39m.\u001b[39m\u001b[39m\"\u001b[39m)\n\u001b[1;32m     <a href='vscode-notebook-cell:/home/abhishekabhishek/git/canadian-quantum-cup/quantum-state-discrimination/qsd.ipynb#W5sZmlsZQ%3D%3D?line=38'>39</a>\u001b[0m     \u001b[39melse\u001b[39;00m:\n",
      "\u001b[1;32m/home/abhishekabhishek/git/canadian-quantum-cup/quantum-state-discrimination/qsd.ipynb Cell 4\u001b[0m line \u001b[0;36m1\n\u001b[1;32m     <a href='vscode-notebook-cell:/home/abhishekabhishek/git/canadian-quantum-cup/quantum-state-discrimination/qsd.ipynb#W5sZmlsZQ%3D%3D?line=11'>12</a>\u001b[0m solution_output \u001b[39m=\u001b[39m json\u001b[39m.\u001b[39mloads(solution_output)\n\u001b[1;32m     <a href='vscode-notebook-cell:/home/abhishekabhishek/git/canadian-quantum-cup/quantum-state-discrimination/qsd.ipynb#W5sZmlsZQ%3D%3D?line=12'>13</a>\u001b[0m expected_output \u001b[39m=\u001b[39m json\u001b[39m.\u001b[39mloads(expected_output)\n\u001b[0;32m---> <a href='vscode-notebook-cell:/home/abhishekabhishek/git/canadian-quantum-cup/quantum-state-discrimination/qsd.ipynb#W5sZmlsZQ%3D%3D?line=14'>15</a>\u001b[0m \u001b[39massert\u001b[39;00m np\u001b[39m.\u001b[39mallclose(solution_output, expected_output, rtol\u001b[39m=\u001b[39m\u001b[39m1e-4\u001b[39m)\n",
      "\u001b[0;31mAssertionError\u001b[0m: "
     ]
    }
   ],
   "source": [
    "# These functions are responsible for testing the solution.\n",
    "\n",
    "\n",
    "def run(test_case_input: str) -> str:\n",
    "    theta1, theta2, p_1, p_2 = json.loads(test_case_input)\n",
    "    prob = np.array(maximal_probability(theta1, theta2, p_1, p_2)).numpy()\n",
    "\n",
    "    return str(prob)\n",
    "\n",
    "\n",
    "def check(solution_output: str, expected_output: str) -> None:\n",
    "    solution_output = json.loads(solution_output)\n",
    "    expected_output = json.loads(expected_output)\n",
    "\n",
    "    assert np.allclose(solution_output, expected_output, rtol=1e-4)\n",
    "\n",
    "\n",
    "\n",
    "# These are the public test cases\n",
    "test_cases = [\n",
    "    ('[0, 0.7853981633974483, 0.25, 0.75]', '0.8952847075210476'),\n",
    "    ('[1.83259571459, 1.88495559215, 0.5, 0.5]', '0.52616798')\n",
    "]\n",
    "\n",
    "# This will run the public test cases locally\n",
    "for i, (input_, expected_output) in enumerate(test_cases):\n",
    "    print(f\"Running test case {i} with input '{input_}'...\")\n",
    "\n",
    "    try:\n",
    "        output = run(input_)\n",
    "\n",
    "    except Exception as exc:\n",
    "        print(f\"Runtime Error. {exc}\")\n",
    "\n",
    "    else:\n",
    "        if message := check(output, expected_output):\n",
    "            print(f\"Wrong Answer. Have: '{output}'. Want: '{expected_output}'.\")\n",
    "\n",
    "        else:\n",
    "            print(\"Correct!\")"
   ]
  },
  {
   "cell_type": "code",
   "execution_count": null,
   "metadata": {},
   "outputs": [],
   "source": []
  }
 ],
 "metadata": {
  "kernelspec": {
   "display_name": "qml",
   "language": "python",
   "name": "python3"
  },
  "language_info": {
   "codemirror_mode": {
    "name": "ipython",
    "version": 3
   },
   "file_extension": ".py",
   "mimetype": "text/x-python",
   "name": "python",
   "nbconvert_exporter": "python",
   "pygments_lexer": "ipython3",
   "version": "3.8.16"
  }
 },
 "nbformat": 4,
 "nbformat_minor": 2
}
