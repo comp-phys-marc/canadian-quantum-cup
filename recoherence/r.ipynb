{
 "cells": [
  {
   "cell_type": "markdown",
   "metadata": {},
   "source": [
    "recoherence"
   ]
  },
  {
   "cell_type": "code",
   "execution_count": 7,
   "metadata": {},
   "outputs": [],
   "source": [
    "import json\n",
    "import pennylane as qml\n",
    "import pennylane.numpy as np\n",
    "\n",
    "dev = qml.device(\"default.qubit\", wires=5)"
   ]
  },
  {
   "cell_type": "code",
   "execution_count": 30,
   "metadata": {},
   "outputs": [],
   "source": [
    "@qml.qnode(dev)\n",
    "def evolve_state(coeffs, time):\n",
    "    \"\"\"\n",
    "    Args:\n",
    "        coeffs (list(float)): A list of the coupling constants g_1, g_2, g_3, and g_4\n",
    "        time (float): The evolution time of th system under the given Hamiltonian\n",
    "\n",
    "    Returns:\n",
    "        (numpy.tensor): The density matrix for the evolved state of the central spin.\n",
    "    \"\"\"\n",
    "\n",
    "    # We build the Hamiltonian for you\n",
    "\n",
    "    operators = [\n",
    "        qml.PauliZ(0) @ qml.PauliZ(1),\n",
    "        qml.PauliZ(0) @ qml.PauliZ(2),\n",
    "        qml.PauliZ(0) @ qml.PauliZ(3),\n",
    "        qml.PauliZ(0) @ qml.PauliZ(4),\n",
    "    ]\n",
    "    hamiltonian = qml.dot(coeffs, operators)\n",
    "\n",
    "    # Put your code here #\n",
    "    \n",
    "    qml.ApproxTimeEvolution(qml.Hamiltonian(coeffs, operators), time, n=100)\n",
    "\n",
    "    # Return the required density matrix.\n",
    "    return qml.density_matrix(wires=range(5))"
   ]
  },
  {
   "cell_type": "code",
   "execution_count": 40,
   "metadata": {},
   "outputs": [],
   "source": [
    "def purity(rho):\n",
    "    \"\"\"\n",
    "    Args:\n",
    "        rho (array(array(complex))): An array-like object representing a density matrix\n",
    "\n",
    "    Returns:\n",
    "        (float): The purity of the density matrix rho\n",
    "\n",
    "    \"\"\"\n",
    "\n",
    "    # Put your code here\n",
    "    dev = qml.device('default.mixed', wires=5)\n",
    "    @qml.qnode(dev)\n",
    "    def circuit():\n",
    "        qml.QubitDensityMatrix(rho, wires=range(5))\n",
    "        return qml.purity(wires=range(5))\n",
    "\n",
    "    # Return the purity\n",
    "    return circuit()"
   ]
  },
  {
   "cell_type": "code",
   "execution_count": 83,
   "metadata": {},
   "outputs": [],
   "source": [
    "def recoherence_time(coeffs):\n",
    "    \"\"\"\n",
    "    Args:\n",
    "        coeffs (list(float)): A list of the coupling constants g_1, g_2, g_3, and g_4.\n",
    "\n",
    "    Returns:\n",
    "        (float): The recoherence time of the central spin.\n",
    "\n",
    "    \"\"\"\n",
    "    start_time, end_time, step = 0., 100., 0.01\n",
    "\n",
    "    for curr_time in np.arange(start_time, end_time, step):\n",
    "        rho = evolve_state(coeffs, curr_time)\n",
    "        if abs(purity(rho) - 1.) < 1e-3 and abs(curr_time - start_time) > 1:\n",
    "            break\n",
    "\n",
    "    \"\"\"while abs(purity(rho) - 1.) > 1e-2 or abs(curr_time-start_time) == step:\n",
    "        print(\"i'm here\")\n",
    "        curr_time += step\n",
    "        rho = evolve_state(coeffs, curr_time)\"\"\"\n",
    "\n",
    "    # Return the recoherence time\n",
    "    return curr_time.item()"
   ]
  },
  {
   "cell_type": "code",
   "execution_count": 84,
   "metadata": {},
   "outputs": [],
   "source": [
    "# These are the public test cases\n",
    "test_cases = [\n",
    "    ('[5,5,5,5]', '0.314'),\n",
    "    ('[1.1,1.3,1,2.3]', '15.71')\n",
    "]\n",
    "\n",
    "test_case_input = test_cases[0][0]\n",
    "params = json.loads(test_case_input)\n",
    "output = recoherence_time(params)"
   ]
  },
  {
   "cell_type": "code",
   "execution_count": 85,
   "metadata": {},
   "outputs": [
    {
     "data": {
      "text/plain": [
       "1.01"
      ]
     },
     "execution_count": 85,
     "metadata": {},
     "output_type": "execute_result"
    }
   ],
   "source": [
    "output"
   ]
  },
  {
   "cell_type": "code",
   "execution_count": 11,
   "metadata": {},
   "outputs": [
    {
     "name": "stdout",
     "output_type": "stream",
     "text": [
      "Running test case 0 with input '[5,5,5,5]'...\n",
      "Runtime Error. __init__() missing 1 required positional argument: 'n'\n",
      "Running test case 1 with input '[1.1,1.3,1,2.3]'...\n",
      "Runtime Error. __init__() missing 1 required positional argument: 'n'\n"
     ]
    }
   ],
   "source": [
    "# These functions are responsible for testing the solution.\n",
    "def run(test_case_input: str) -> str:\n",
    "    params = json.loads(test_case_input)\n",
    "    output = recoherence_time(params)\n",
    "\n",
    "    return str(output)\n",
    "\n",
    "\n",
    "def check(solution_output: str, expected_output: str) -> None:\n",
    "    solution_output = json.loads(solution_output)\n",
    "    expected_output = json.loads(expected_output)\n",
    "\n",
    "    assert np.isclose(solution_output, expected_output, rtol=5e-2)\n",
    "\n",
    "\n",
    "# These are the public test cases\n",
    "test_cases = [\n",
    "    ('[5,5,5,5]', '0.314'),\n",
    "    ('[1.1,1.3,1,2.3]', '15.71')\n",
    "]\n",
    "\n",
    "# This will run the public test cases locally\n",
    "for i, (input_, expected_output) in enumerate(test_cases):\n",
    "    print(f\"Running test case {i} with input '{input_}'...\")\n",
    "\n",
    "    try:\n",
    "        output = run(input_)\n",
    "\n",
    "    except Exception as exc:\n",
    "        print(f\"Runtime Error. {exc}\")\n",
    "\n",
    "    else:\n",
    "        if message := check(output, expected_output):\n",
    "            print(f\"Wrong Answer. Have: '{output}'. Want: '{expected_output}'.\")\n",
    "\n",
    "        else:\n",
    "            print(\"Correct!\")"
   ]
  },
  {
   "cell_type": "code",
   "execution_count": null,
   "metadata": {},
   "outputs": [],
   "source": []
  },
  {
   "cell_type": "code",
   "execution_count": null,
   "metadata": {},
   "outputs": [],
   "source": []
  }
 ],
 "metadata": {
  "kernelspec": {
   "display_name": "qml",
   "language": "python",
   "name": "python3"
  },
  "language_info": {
   "codemirror_mode": {
    "name": "ipython",
    "version": 3
   },
   "file_extension": ".py",
   "mimetype": "text/x-python",
   "name": "python",
   "nbconvert_exporter": "python",
   "pygments_lexer": "ipython3",
   "version": "3.8.16"
  }
 },
 "nbformat": 4,
 "nbformat_minor": 2
}
